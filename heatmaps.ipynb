{
  "nbformat": 4,
  "nbformat_minor": 0,
  "metadata": {
    "colab": {
      "provenance": [],
      "authorship_tag": "ABX9TyOr2Kmvlntkg7ySMxdVI6bi",
      "include_colab_link": true
    },
    "kernelspec": {
      "name": "python3",
      "display_name": "Python 3"
    },
    "language_info": {
      "name": "python"
    }
  },
  "cells": [
    {
      "cell_type": "markdown",
      "metadata": {
        "id": "view-in-github",
        "colab_type": "text"
      },
      "source": [
        "<a href=\"https://colab.research.google.com/github/anthony0625/calcium-data/blob/heatmaps/heatmaps.ipynb\" target=\"_parent\"><img src=\"https://colab.research.google.com/assets/colab-badge.svg\" alt=\"Open In Colab\"/></a>"
      ]
    },
    {
      "cell_type": "code",
      "source": [
        "!pip install pydendroheatmap"
      ],
      "metadata": {
        "colab": {
          "base_uri": "https://localhost:8080/"
        },
        "id": "Pemamv7JNGkO",
        "outputId": "3f4f8f2b-31f1-4b68-c3a0-461eb6713a52"
      },
      "execution_count": null,
      "outputs": [
        {
          "output_type": "stream",
          "name": "stdout",
          "text": [
            "Looking in indexes: https://pypi.org/simple, https://us-python.pkg.dev/colab-wheels/public/simple/\n",
            "Collecting pydendroheatmap\n",
            "  Downloading pydendroheatmap-1.5-py3-none-any.whl (9.1 kB)\n",
            "Installing collected packages: pydendroheatmap\n",
            "Successfully installed pydendroheatmap-1.5\n"
          ]
        }
      ]
    },
    {
      "cell_type": "code",
      "execution_count": null,
      "metadata": {
        "colab": {
          "base_uri": "https://localhost:8080/"
        },
        "id": "J2_Krn2lIZZa",
        "outputId": "3e682b6c-4945-4f4f-cd7b-c0bad52f30e1"
      },
      "outputs": [
        {
          "output_type": "stream",
          "name": "stdout",
          "text": [
            "Mounted at /content/drive\n"
          ]
        }
      ],
      "source": [
        "import pydendroheatmap as pdh\n",
        "import numpy as np\n",
        "import matplotlib.pyplot as plt\n",
        "import scipy, csv\n",
        "from scipy.cluster.hierarchy import dendrogram, linkage, fcluster, cophenet\n",
        "from scipy.spatial.distance import pdist\n",
        "from sklearn.cluster import AffinityPropagation, SpectralClustering, KMeans\n",
        "from sklearn.svm import SVC\n",
        "from sklearn.pipeline import make_pipeline\n",
        "from sklearn.preprocessing import StandardScaler, MinMaxScaler\n",
        "from sklearn.model_selection import train_test_split\n",
        "from sklearn.metrics import confusion_matrix, accuracy_score\n",
        "from io import StringIO\n",
        "\n",
        "np.set_printoptions(precision=4, suppress=True)\n",
        "%matplotlib inline\n",
        "\n",
        "from google.colab import drive\n",
        "drive.mount('/content/drive')\n",
        "\n",
        "class temp():\n",
        "    def __init__(self, data, path, k=2, length=20, noise=None, res=None):\n",
        "        self.results = self.getResults(path, length, res)\n",
        "        self.frames = self.clean(self.results[:,0:2], length)\n",
        "        self.length = length\n",
        "        self.data = data\n",
        "        self.k = k\n",
        "        self.path = path\n",
        "        self.res = res\n",
        "        #self.primary = np.zeros((np.shape(self.frames)[0], (self.length-self.k) * (np.shape(data)[1])))\n",
        "\n",
        "\n",
        "        self.primary = np.zeros((np.shape(data)[1], self.length))\n",
        "\n",
        "        for trial in range(np.shape(self.frames)[0]):\n",
        "            mat = self.data[self.frames[trial, 0]:self.frames[trial, 1], :]\n",
        "            mat = np.real(np.fft.fft(np.transpose(mat), axis=1))\n",
        "            self.primary = self.primary + mat[:,:length]\n",
        "\n",
        "        '''\n",
        "        for trial in range(np.shape(self.frames)[0]):\n",
        "            print(data)\n",
        "            #mat = self.data[self.frames[trial,0]:self.frames[trial,1], ]\n",
        "            mat = np.real(np.fft.fft(mat, axis=0))\n",
        "            self.primary = self.primary + a\n",
        "        '''\n",
        "        \n",
        "        '''\n",
        "        for trial in range(np.shape(self.frames)[0]):\n",
        "            vec = self.data[self.frames[trial,0]:self.frames[trial,1], 0:]\n",
        "            vec = np.real(np.fft.fft(vec, axis=0))\n",
        "            vec = vec[self.k:self.length]\n",
        "            self.primary[trial,:] = np.ndarray.flatten(np.transpose(vec))\n",
        "        '''\n",
        "        self.primary = self.scale(self.primary)\n",
        "        \n",
        "        \n",
        "        #self.primary = np.transpose(self.primary)\n",
        "        self.heatMap(self.primary, self.res, self.length)\n",
        "        #self.dend(self.primary)\n",
        "        \n",
        "    def scale(self, data):\n",
        "        #print(data)\n",
        "        #scaler = StandardScaler()\n",
        "        scaler = MinMaxScaler()\n",
        "        #print(scaler.transform(data))\n",
        "        return scaler.fit_transform(data)\n",
        "\n",
        "\n",
        "    def clean(self, frames, length):\n",
        "        for trial in range(np.shape(frames)[0]):\n",
        "            if frames[trial,1]-frames[trial,0]<length:\n",
        "                return self.clean(frames[np.arange(len(frames))!=trial] ,length)\n",
        "        return frames\n",
        "\n",
        "\n",
        "    def plot(self, data, length):\n",
        "        plt.style.use('default')\n",
        "        title = \"Frame \" + str(self.frames[0]) + \" to \" + str(self.frames[1])\n",
        "        plt.figure(figsize=(4,2), dpi=150)\n",
        "        plt.title(title)\n",
        "        for cell in range(np.shape(self.data)[1]):\n",
        "            plt.plot(np.arange(0,length,1), self.data[:,cell][:])\n",
        "    \n",
        "    def getResults(self, path, length, res):\n",
        "        results_c = []\n",
        "        #results_i = []\n",
        "        with open(path) as csvfile:\n",
        "            reader = csv.reader(csvfile, delimiter = \",\")\n",
        "            for row in reader:\n",
        "                if res==None:\n",
        "                    if row[4]==\"clean\" and row[3]==res and int(row[7])-int(row[5])>length:\n",
        "                        results_c.append(row)\n",
        "                elif row[4]==\"clean\" and row[3]==res and int(row[7])-int(row[5])>length:\n",
        "                    results_c.append(row)\n",
        "                #results.append(row)\n",
        "                #elif row[4]==\"clean\" and row[3]==\"incorrect\" and int(row[7])-int(row[5])>length:\n",
        "                #   results_i.append(row)\n",
        "        results_c = np.array(results_c, dtype=object)\n",
        "        #results_i = np.array(results_i, dtype=object)\n",
        "        turn = results_c[1:,3]#2 for LR 3 for correct/incorrect\n",
        "        new_turn = np.zeros(np.shape(turn)[0])\n",
        "        for i in range(np.shape(turn)[0]):\n",
        "            if turn[i] == \"correct\":\n",
        "                new_turn[i] = 1\n",
        "            else:\n",
        "                new_turn[i] = 0\n",
        "        new_turn = new_turn[..., None]\n",
        "        results_c = np.transpose(np.stack((results_c[1:,5], results_c[1:,7])))#5 for start, 8 for end, 7 for turn\n",
        "        results_c = np.concatenate((results_c,new_turn),axis=1).astype(int)\n",
        "\n",
        "        return results_c#, reuslts_i #returns frames + results\n",
        "\n",
        "    def dend(self, data):\n",
        "        Z = linkage(data, \"ward\")\n",
        "        fig = plt.figure(figsize=(10,20))\n",
        "        #fig = plt.figure(figsize=(7,5))\n",
        "        dn = dendrogram(Z, orientation=\"right\")\n",
        "        plt.show()\n",
        "\n",
        "    def spec(self, data):\n",
        "        clustering = SpectralClustering(n_clusters=5, assign_labels=\"discretize\").fit(data)\n",
        "        print(clustering.labels_)\n",
        "\n",
        "    '''\n",
        "    def heatMap(self):\n",
        "        methods = [None, 'none', 'nearest', 'bilinear', 'bicubic', 'spline16',\n",
        "           'spline36', 'hanning', 'hamming', 'hermite', 'kaiser', 'quadric',\n",
        "           'catrom', 'gaussian', 'bessel', 'mitchell', 'sinc', 'lanczos']\n",
        "        grid = np.random.rand(4, 4)\n",
        "        fig, axs = plt.subplots(nrows=3, ncols=6, figsize=(9, 6),\n",
        "                                subplot_kw={'xticks': [], 'yticks': []})\n",
        "        for ax, interp_method in zip(axs.flat, methods):\n",
        "            ax.imshow(grid, interpolation=interp_method, cmap='viridis')\n",
        "            ax.set_title(str(interp_method))\n",
        "        plt.tight_layout()\n",
        "        plt.show()\n",
        "    \n",
        "    def heatMap(self, data):\n",
        "        fig = plt.figure(figsize=(20,20))\n",
        "        plt.imshow(np.transpose(data))\n",
        "        plt.show()\n",
        "    '''\n",
        "    def heatMap(self, data, res, length):\n",
        "        #heatmap_array = \n",
        "        heatmap = pdh.DendroHeatMap(heat_map_data=data)\n",
        "        heatmap.title = res, length\n",
        "        #heatmap.row_labels = np.arange(np.shape(data)[0])\n",
        "        heatmap.colormap = heatmap.yellowBlackBlue\n",
        "        heatmap.show()"
      ]
    },
    {
      "cell_type": "code",
      "source": [
        "a = temp(data, params, length=60, res=\"wrong\")"
      ],
      "metadata": {
        "colab": {
          "base_uri": "https://localhost:8080/",
          "height": 578
        },
        "id": "JPl9CTzIJBEr",
        "outputId": "4e571811-265a-4155-ab0d-c2f9f7c0e2f7"
      },
      "execution_count": null,
      "outputs": [
        {
          "output_type": "display_data",
          "data": {
            "text/plain": [
              "<Figure size 1008x720 with 2 Axes>"
            ],
            "image/png": "[encoded data removed]"
          },
          "metadata": {
            "needs_background": "light"
          }
        }
      ]
    },
    {
      "cell_type": "code",
      "source": [
        "#path = \"/content/drive/MyDrive/CalciumImaging_Lur のコピー/mice_datasets/m11n/s1/05_06_2022___15_20_00/calcium_raw_05_06_2022___15_20_00.csv\"\n",
        "path = \"/content/drive/MyDrive/CalciumImaging_Lur のコピー/mice_datasets/m12lr/s2/05_17_2022___16_15_20/calcium_raw_05_17_2022___16_15_20.csv\"\n",
        "data = np.genfromtxt(path, delimiter = \",\")[1:,1:]\n",
        "\n",
        "params = \"/content/drive/MyDrive/CalciumImaging_Lur のコピー/mice_datasets/m12lr/s2/05_17_2022___16_15_20/trial_parameters_05_17_2022___16_15_20.csv\"\n",
        "\n"
      ],
      "metadata": {
        "id": "SqbJ5cS8IejL"
      },
      "execution_count": null,
      "outputs": []
    },
    {
      "cell_type": "code",
      "source": [
        "print(np.std(np.array([0,0,0,0,0,0,0,0,0,5,5,5,5,5,5,5,5])))"
      ],
      "metadata": {
        "colab": {
          "base_uri": "https://localhost:8080/"
        },
        "id": "yUFsnIWtS7Z9",
        "outputId": "61d62748-071b-41e9-ef0b-9c4830d63db0"
      },
      "execution_count": null,
      "outputs": [
        {
          "output_type": "stream",
          "name": "stdout",
          "text": [
            "2.495670992423109\n"
          ]
        }
      ]
    },
    {
      "cell_type": "code",
      "source": [],
      "metadata": {
        "id": "tqt35E8_lvsU"
      },
      "execution_count": null,
      "outputs": []
    }
  ]
}