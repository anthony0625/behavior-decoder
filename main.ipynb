{
  "cells": [
    {
      "cell_type": "markdown",
      "metadata": {
        "id": "0HgFqHEQ4GMK"
      },
      "source": [
        "# Prep stuff"
      ]
    },
    {
      "cell_type": "markdown",
      "metadata": {
        "id": "lQCWYLpWsn1l"
      },
      "source": [
        "## Installation"
      ]
    },
    {
      "cell_type": "code",
      "execution_count": 8,
      "metadata": {
        "colab": {
          "base_uri": "https://localhost:8080/"
        },
        "id": "oxgxsP8wsnLe",
        "outputId": "89035703-bcca-43ac-8de7-2e3b53206e82"
      },
      "outputs": [
        {
          "output_type": "stream",
          "name": "stdout",
          "text": [
            "Looking in indexes: https://pypi.org/simple, https://us-python.pkg.dev/colab-wheels/public/simple/\n",
            "Requirement already satisfied: pydendroheatmap in /usr/local/lib/python3.7/dist-packages (1.5)\n"
          ]
        }
      ],
      "source": [
        "!pip install pydendroheatmap"
      ]
    },
    {
      "cell_type": "markdown",
      "metadata": {
        "id": "J65gtASe4RPK"
      },
      "source": [
        "## Paths / Data"
      ]
    },
    {
      "cell_type": "markdown",
      "source": [
        "## Packager"
      ],
      "metadata": {
        "id": "alDMFjMlZWad"
      }
    },
    {
      "cell_type": "code",
      "source": [
        "paths = []\n",
        "params = []\n",
        "labels = []\n",
        "\n",
        "add_button = ToggleButton(value=False, description=\"Add\")\n",
        "done_button = ToggleButton(value=False, description=\"Done!\")\n",
        "\n",
        "paths_box = Text(description = \"Paths\")\n",
        "params_box = Text(description = \"Params\")\n",
        "stage_slider = SelectionSlider(options=[0,1,2],value=0, description=\"Stage\")\n",
        "\n",
        "display(paths_box, params_box, stage_slider)\n",
        "\n",
        "display(HBox([add_button, done_button]))\n",
        "\n",
        "while not done_button.value:\n",
        "    time.sleep(1)\n",
        "    if True:#add_button.value==True:\n",
        "        paths.append(paths_box.value)\n",
        "        params.append(params_box.value)\n",
        "        labels.append(stage_slider.value)\n",
        "        paths_box.value, params_box.value, stage_slider.value = \"\",\"\",0\n",
        "        add_button.value = False\n",
        "    else: \n",
        "        pass\n",
        "print(\"\\n\".join(paths))"
      ],
      "metadata": {
        "colab": {
          "base_uri": "https://localhost:8080/",
          "height": 359,
          "referenced_widgets": [
            "91a98ca1c3dc4b58b2a7038c6a661571",
            "a5e8892fe30b4baa9bd3d3b555156df1",
            "824729f5b2454dbd895337720d38ae05",
            "56987371b25d4176bef145796926203f",
            "582be7517b3b4a46917fa505f04ccdb6",
            "1c4bfec3a80f4e4e82eae8a4d6006581",
            "e4cbe117b017415a858230ec7d7b9a98",
            "4eb73a717a3f4313b03409df447a1760",
            "284ddefc463448258a9709f36829778b",
            "462a0e6d0a3f44fb9dff00473d102f11",
            "7af9725457bf4d35bc6b7611ebf0a6d2",
            "926ae05d2cba4f73885658e0ac8f945b",
            "e9f3e7465fd74d1582fce9a7ec428c93",
            "da935392adc0487e8d4f4f494c4d076b",
            "0d688e78ffd240099332ed69c32eee62",
            "1bfdeed130c24f98ae38f892376a1bca",
            "8c2ffce67d1d48e499350f38e1748b12"
          ]
        },
        "id": "mfuI--D4ZVnt",
        "outputId": "d82b61d7-df41-4b2a-a706-5a6bc82ded28"
      },
      "execution_count": 69,
      "outputs": [
        {
          "output_type": "display_data",
          "data": {
            "text/plain": [
              "Text(value='', description='Paths')"
            ],
            "application/vnd.jupyter.widget-view+json": {
              "version_major": 2,
              "version_minor": 0,
              "model_id": "91a98ca1c3dc4b58b2a7038c6a661571"
            }
          },
          "metadata": {}
        },
        {
          "output_type": "display_data",
          "data": {
            "text/plain": [
              "Text(value='', description='Params')"
            ],
            "application/vnd.jupyter.widget-view+json": {
              "version_major": 2,
              "version_minor": 0,
              "model_id": "56987371b25d4176bef145796926203f"
            }
          },
          "metadata": {}
        },
        {
          "output_type": "display_data",
          "data": {
            "text/plain": [
              "SelectionSlider(description='Stage', options=(0, 1, 2), value=0)"
            ],
            "application/vnd.jupyter.widget-view+json": {
              "version_major": 2,
              "version_minor": 0,
              "model_id": "e4cbe117b017415a858230ec7d7b9a98"
            }
          },
          "metadata": {}
        },
        {
          "output_type": "display_data",
          "data": {
            "text/plain": [
              "HBox(children=(ToggleButton(value=False, description='Add'), ToggleButton(value=False, description='Done!')))"
            ],
            "application/vnd.jupyter.widget-view+json": {
              "version_major": 2,
              "version_minor": 0,
              "model_id": "462a0e6d0a3f44fb9dff00473d102f11"
            }
          },
          "metadata": {}
        },
        {
          "output_type": "error",
          "ename": "KeyboardInterrupt",
          "evalue": "ignored",
          "traceback": [
            "\u001b[0;31m---------------------------------------------------------------------------\u001b[0m",
            "\u001b[0;31mKeyboardInterrupt\u001b[0m                         Traceback (most recent call last)",
            "\u001b[0;32m<ipython-input-69-520a01443ca1>\u001b[0m in \u001b[0;36m<module>\u001b[0;34m\u001b[0m\n\u001b[1;32m     16\u001b[0m \u001b[0;32mwhile\u001b[0m \u001b[0;32mnot\u001b[0m \u001b[0mdone_button\u001b[0m\u001b[0;34m.\u001b[0m\u001b[0mvalue\u001b[0m\u001b[0;34m:\u001b[0m\u001b[0;34m\u001b[0m\u001b[0;34m\u001b[0m\u001b[0m\n\u001b[1;32m     17\u001b[0m     \u001b[0;31m#print(\"a\")\u001b[0m\u001b[0;34m\u001b[0m\u001b[0;34m\u001b[0m\u001b[0;34m\u001b[0m\u001b[0m\n\u001b[0;32m---> 18\u001b[0;31m     \u001b[0mtime\u001b[0m\u001b[0;34m.\u001b[0m\u001b[0msleep\u001b[0m\u001b[0;34m(\u001b[0m\u001b[0;36m1\u001b[0m\u001b[0;34m)\u001b[0m\u001b[0;34m\u001b[0m\u001b[0;34m\u001b[0m\u001b[0m\n\u001b[0m\u001b[1;32m     19\u001b[0m     \u001b[0;31m#print(\"b\")\u001b[0m\u001b[0;34m\u001b[0m\u001b[0;34m\u001b[0m\u001b[0;34m\u001b[0m\u001b[0m\n\u001b[1;32m     20\u001b[0m     \u001b[0;32mif\u001b[0m \u001b[0;32mTrue\u001b[0m\u001b[0;34m:\u001b[0m\u001b[0;31m#add_button.value==True:\u001b[0m\u001b[0;34m\u001b[0m\u001b[0;34m\u001b[0m\u001b[0m\n",
            "\u001b[0;31mKeyboardInterrupt\u001b[0m: "
          ]
        }
      ]
    },
    {
      "cell_type": "code",
      "source": [
        "\n",
        "while a!=\"done\":\n",
        "    a = input(\"path\")\n",
        "    a = input(\"param\")\n",
        "    a = input(\"label\")"
      ],
      "metadata": {
        "colab": {
          "base_uri": "https://localhost:8080/",
          "height": 53
        },
        "id": "yNRNBGeoeEGO",
        "outputId": "3fb362a0-28bd-4684-9b40-8c0e7125e670"
      },
      "execution_count": 36,
      "outputs": [
        {
          "name": "stdout",
          "output_type": "stream",
          "text": [
            "a\n"
          ]
        },
        {
          "output_type": "execute_result",
          "data": {
            "text/plain": [
              "'a'"
            ],
            "application/vnd.google.colaboratory.intrinsic+json": {
              "type": "string"
            }
          },
          "metadata": {},
          "execution_count": 36
        }
      ]
    },
    {
      "cell_type": "markdown",
      "source": [
        "## m13"
      ],
      "metadata": {
        "id": "vYPL3lVTYljd"
      }
    },
    {
      "cell_type": "code",
      "source": [],
      "metadata": {
        "id": "wMQyrdtVYlCF"
      },
      "execution_count": null,
      "outputs": []
    },
    {
      "cell_type": "markdown",
      "metadata": {
        "id": "m6joJoAp7hvk"
      },
      "source": [
        "## Definitions"
      ]
    },
    {
      "cell_type": "code",
      "execution_count": 63,
      "metadata": {
        "colab": {
          "base_uri": "https://localhost:8080/",
          "height": 142
        },
        "id": "leKDSV7YEuJ5",
        "outputId": "bd06bc26-4ef7-4f38-fb65-aa93bbe03e92"
      },
      "outputs": [
        {
          "output_type": "stream",
          "name": "stdout",
          "text": [
            "Drive already mounted at /content/drive; to attempt to forcibly remount, call drive.mount(\"/content/drive\", force_remount=True).\n"
          ]
        },
        {
          "output_type": "execute_result",
          "data": {
            "text/plain": [
              "'\\ndef compute_DM(data, params, trials, sizes):\\n    output = np.zeros((1225+1, 4, trials))\\n    for trial in range(trials):\\n        print(\"starting trial\", trial)\\n        count=0\\n        for upper_band in range(50):\\n            for lower_band in range(upper_band):\\n                b = temp(data, params, k=lower_band, length=upper_band)\\n                count = count+1\\n                output[count,:,trial] = output[count,:,trial] + np.array([b.acc,b.nacc,j,i])\\n                if(b.acc>0.9):print(b.acc,\",\" ,j , \",\", i)\\n'"
            ],
            "application/vnd.google.colaboratory.intrinsic+json": {
              "type": "string"
            }
          },
          "metadata": {},
          "execution_count": 63
        }
      ],
      "source": [
        "import numpy as np\n",
        "import time\n",
        "import matplotlib.pyplot as plt\n",
        "import scipy, csv\n",
        "from scipy.cluster.hierarchy import dendrogram, linkage, fcluster, cophenet\n",
        "from scipy.spatial.distance import pdist\n",
        "from sklearn.cluster import AffinityPropagation, SpectralClustering, KMeans\n",
        "from sklearn.svm import SVC\n",
        "from sklearn.pipeline import make_pipeline\n",
        "from sklearn.preprocessing import StandardScaler, MinMaxScaler\n",
        "from sklearn.model_selection import train_test_split\n",
        "from sklearn.metrics import confusion_matrix, accuracy_score\n",
        "from io import StringIO\n",
        "import pydendroheatmap as pdh\n",
        "from ipywidgets import *\n",
        "from IPython.display import display\n",
        "#from joblib import Parallel, delayed\n",
        "\n",
        "np.set_printoptions(precision=4, suppress=True)\n",
        "%matplotlib inline\n",
        "\n",
        "from google.colab import drive\n",
        "drive.mount('/content/drive')\n",
        "\n",
        "class temp():\n",
        "    def __init__(self, data, path, data_path=None, k=2, length=20, noise=None, res=None, tempRes=None, mode=True, paradigm=\"CI\"):\n",
        "        if data_path!=None:\n",
        "            self.data = np.genfromtxt(data_path, delimiter = \",\")[1:,1:]\n",
        "        else:\n",
        "            self.data = data\n",
        "        if paradigm == \"CI\":\n",
        "            self.paradigm = 3\n",
        "        else:\n",
        "            self.paradigm = 2\n",
        "        if tempRes != None: #test results\n",
        "            self.results = self.tempRes\n",
        "        else:\n",
        "            self.results = self.getResults(path, length, res, mode,  self.paradigm)\n",
        "        self.frames = self.clean(self.results[:,0:2], length)\n",
        "        self.length = length\n",
        "        self.k = k\n",
        "        self.path = path\n",
        "        self.res = res\n",
        "        \n",
        "        self.axis_trials = np.shape(self.frames)[0]\n",
        "        self.axis_freqs = self.length-self.k\n",
        "        self.axis_cells = np.shape(self.data)[1]\n",
        "        self.primary = np.zeros((self.axis_trials, self.axis_freqs, self.axis_cells))\n",
        "\n",
        "        #for trial in range(np.shape(self.frames)[0]-1): #missing trial in m12 5_18_2022-----------------------\n",
        "        for trial in range(np.shape(self.frames)[0]):\n",
        "            mat = self.data[self.frames[trial,0]:self.frames[trial,1], 0:]\n",
        "            mat = np.real(np.fft.fft(mat, axis=0))\n",
        "            mat = mat[self.k:self.length]\n",
        "            self.primary[trial,:,:] = mat\n",
        "\n",
        "            #VVV deprecated primary for reference VVV\n",
        "            #self.primary[trial,:] = np.ndarray.flatten(np.transpose(mat))\n",
        "\n",
        "        self.secondary = np.reshape(self.primary, (self.axis_trials, self.axis_freqs * self.axis_cells))\n",
        "        self.gamma = self.scale(np.reshape(np.mean(self.primary, axis=0),(self.axis_cells, self.axis_freqs)))\n",
        "\n",
        "        #self.secondary = self.scale(self.secondary)\n",
        "        #self.primary = np.transpose(self.secondary)\n",
        "        #print(np.shape(self.secondary))\n",
        "        #self.dend(self.secondary)\n",
        "        #self.kmeans(self.secondary)\n",
        "        \n",
        "        #print(self.results[:,2])\n",
        "        #print(np.shape(self.secondary))\n",
        "        #print(np.shape(self.frames))\n",
        "        #print(np.shape(self.results))\n",
        "        \n",
        "\n",
        "        self.acc, self.nacc = self.svcp(self.secondary, self.results[:,2])\n",
        "        #self.heatMap(self.gamma, self.res, self.length)\n",
        "        #plt.matshow(self.gamma)\n",
        "\n",
        "    def scale(self, data):\n",
        "        #scaler = StandardScaler()\n",
        "        scaler = MinMaxScaler()\n",
        "        #print(scaler.transform(data))\n",
        "        return scaler.fit_transform(data)\n",
        "\n",
        "    def svcp(self, data, exp_out):\n",
        "        X_train, X_test, y_train, y_test = train_test_split(data, exp_out, test_size = 0.25, stratify = exp_out)\n",
        "        classifier = SVC(random_state=0, cache_size=7000,kernel=\"linear\")#,kernel = \"linear\")\n",
        "        classifier.fit(X_train, y_train)\n",
        "\n",
        "        y_pred = classifier.predict(X_test)\n",
        "\n",
        "        noise_x = np.random.rand(np.shape(data)[0],np.shape(data)[1])\n",
        "        noise_y = np.random.randint(0, high=2, size=(np.shape(data)[0]))\n",
        "        noise_pred = classifier.predict(noise_x)\n",
        "\n",
        "        #cm = confusion_matrix(y_test, y_pred)\n",
        "        #print(cm)\n",
        "        #print(accuracy_score(y_test, y_pred))\n",
        "        #clf = make_pipeline(StandardScaler(), SVC(gamma=\"auto\"))\n",
        "        #clf.fit(data, exp_out)\n",
        "        return accuracy_score(y_test, y_pred), accuracy_score(noise_y, noise_pred)\n",
        "\n",
        "    def clean(self, frames, length):\n",
        "        for trial in range(np.shape(frames)[0]):\n",
        "            if frames[trial,1]-frames[trial,0]<length:\n",
        "                return self.clean(frames[np.arange(len(frames))!=trial] ,length)\n",
        "        return frames\n",
        "\n",
        "    def kmeans(self, data):\n",
        "        kmeans = KMeans(n_clusters=2).fit(data)\n",
        "        print(kmeans.labels_)\n",
        "        #for i in range(10000):\n",
        "        #    print(kmeans.labels_[i])\n",
        "\n",
        "    def plot(self, data, length):\n",
        "        plt.style.use('default')\n",
        "        title = \"Frame \" + str(self.frames[0]) + \" to \" + str(self.frames[1])\n",
        "        plt.figure(figsize=(4,2), dpi=150)\n",
        "        plt.title(title)\n",
        "        for cell in range(np.shape(self.data)[1]):\n",
        "            plt.plot(np.arange(0,length,1), self.data[:,cell][:])\n",
        "    \n",
        "    def dend(self, data):\n",
        "        Z = linkage(data, \"ward\")\n",
        "        fig = plt.figure(figsize=(10,20))\n",
        "        #fig = plt.figure(figsize=(7,5))\n",
        "        dn = dendrogram(Z, orientation=\"right\")\n",
        "        plt.show()\n",
        "\n",
        "    def spec(self, data):\n",
        "        clustering = SpectralClustering(n_clusters=5, assign_labels=\"discretize\").fit(data)\n",
        "        print(clustering.labels_)\n",
        "\n",
        "    '''\n",
        "    def getResults(self, path, length):\n",
        "        results = []\n",
        "        with open(path) as csvfile:\n",
        "            reader = csv.reader(csvfile, delimiter = \",\")\n",
        "            for row in reader:\n",
        "                if row[4]==\"clean\" and int(row[7])-int(row[5])>length:\n",
        "                    results.append(row)\n",
        "                #results.append(row)\n",
        "        results = np.array(results, dtype=object)\n",
        "        turn = results[1:,3]#2 for LR 3 for correct/incorrect\n",
        "        new_turn = np.zeros(np.shape(turn)[0])\n",
        "        for i in range(np.shape(turn)[0]):\n",
        "            if turn[i] == \"correct\":\n",
        "                new_turn[i] = 1\n",
        "            else:\n",
        "                new_turn[i] = 0\n",
        "        new_turn = new_turn[..., None]\n",
        "        results = np.transpose(np.stack((results[1:,5], results[1:,7])))#5 for start, 8 for end, 7 for turn\n",
        "        results = np.concatenate((results,new_turn),axis=1).astype(int)\n",
        "        return results\n",
        "    '''\n",
        "\n",
        "    def getResults(self, path, length, res, mode, paradigm):\n",
        "        '''\n",
        "        Columns\n",
        "        0 useless\n",
        "        1 INIT v FTP\n",
        "        2 L v R\n",
        "        3 wrong vs correct\n",
        "        4 messy vs clean\n",
        "        5 trial start\n",
        "        6 stim start\n",
        "        7 turn frame\n",
        "        8 trial end\n",
        "        '''\n",
        "        results = []\n",
        "        with open(path) as csvfile:\n",
        "            reader = csv.reader(csvfile, delimiter = \",\")\n",
        "            reference = np.shape(self.data)[0]-2\n",
        "            for row in reader:\n",
        "                if row[4]==\"clean\" and int(row[7])-int(row[5])>length and int(row[8])<reference and (mode or row[1]==\"INIT\"):# and row[3]==\"correct\":#row[2]==\"L\":\n",
        "                    results.append(row)\n",
        "                #results.append(row)\n",
        "        results = np.array(results, dtype=object)\n",
        "        input = results[1:, paradigm]#2 for LR 3 for correct/incorrect\n",
        "        new_input = np.zeros(np.shape(input)[0])\n",
        "        for i in range(np.shape(input)[0]):\n",
        "            if res==\"rand\":\n",
        "                if np.random.randint(2)==1:\n",
        "                    new_input[i] = 1\n",
        "                else:\n",
        "                    new_input[i] = 0\n",
        "            else:\n",
        "                if input[i] == \"correct\" or (input[i]==\"L\" and results[i+1,3]==\"correct\") or (input[i]==\"R\" and results[i+1,3]==\"wrong\"):\n",
        "                    new_input[i] = 1\n",
        "                else:\n",
        "                    new_input[i] = 0\n",
        "        new_input = new_input[..., None]\n",
        "        results = np.transpose(np.stack((results[1:,5], results[1:,7])))#5 for start, 8 for end, 7 for turn\n",
        "        results = np.concatenate((results,new_input),axis=1).astype(int)\n",
        "        return results\n",
        "    \n",
        "    def heatMap(self, data, res, length):\n",
        "        heatmap = pdh.DendroHeatMap(heat_map_data=data)\n",
        "        \n",
        "        #heatmap.colormap = heatmap.yellowBlackBlue\n",
        "        #heatmap.row_labels = np.arange(np.shape(data)[0])\n",
        "        temp = np.around(np.arange(1/2, (np.shape(data)[1]+1)/2, 1/2),decimals=2)\n",
        "        col_labels = []\n",
        "        for freq in temp:\n",
        "            col_labels.append(str(freq) + \"Hz\")\n",
        "        heatmap.col_labels = col_labels\n",
        "        heatmap.title = res, length\n",
        "        heatmap.show()\n",
        "\n",
        "'''\n",
        "def compute_DM(data, params, trials, sizes):\n",
        "    output = np.zeros((1225+1, 4, trials))\n",
        "    for trial in range(trials):\n",
        "        print(\"starting trial\", trial)\n",
        "        count=0\n",
        "        for upper_band in range(50):\n",
        "            for lower_band in range(upper_band):\n",
        "                b = temp(data, params, k=lower_band, length=upper_band)\n",
        "                count = count+1\n",
        "                output[count,:,trial] = output[count,:,trial] + np.array([b.acc,b.nacc,j,i])\n",
        "                if(b.acc>0.9):print(b.acc,\",\" ,j , \",\", i)\n",
        "'''"
      ]
    },
    {
      "cell_type": "markdown",
      "metadata": {
        "id": "pqb-di2oJj9k"
      },
      "source": [
        "## Testing"
      ]
    },
    {
      "cell_type": "code",
      "execution_count": null,
      "metadata": {
        "colab": {
          "base_uri": "https://localhost:8080/",
          "height": 980
        },
        "id": "2ieLdYE7WwgT",
        "outputId": "6f7ff4ee-fb17-410e-b534-65eb42fad2fe"
      },
      "outputs": [
        {
          "data": {
            "image/png": "[encoded data removed]",
            "text/plain": [
              "<Figure size 1008x720 with 2 Axes>"
            ]
          },
          "metadata": {},
          "output_type": "display_data"
        },
        {
          "data": {
            "image/png": "[encoded data removed]",
            "text/plain": [
              "<Figure size 288x422.069 with 1 Axes>"
            ]
          },
          "metadata": {},
          "output_type": "display_data"
        }
      ],
      "source": [
        "a = temp(data2, params2, length=60, res=\"correct\")\n",
        "#a = temp(data2, params2, length=60)\n",
        "#print(a.acc, a.nacc)"
      ]
    },
    {
      "cell_type": "markdown",
      "metadata": {
        "id": "9m7QhffJ4DPb"
      },
      "source": [
        "# Execution"
      ]
    },
    {
      "cell_type": "markdown",
      "metadata": {
        "id": "Evtl-T0x6OdK"
      },
      "source": [
        "## Main"
      ]
    },
    {
      "cell_type": "code",
      "execution_count": 10,
      "metadata": {
        "id": "-Pz-MJTnZJ-M",
        "colab": {
          "base_uri": "https://localhost:8080/"
        },
        "outputId": "65529699-d89c-4443-899e-4d1b15560e2e"
      },
      "outputs": [
        {
          "output_type": "stream",
          "name": "stdout",
          "text": [
            "(13,) (13,) (13,)\n",
            "['/content/drive/MyDrive/CalciumImaging_Lur のコピー/mice_datasets/m12lr/s0/04_27_2022___13_59_29/calcium_raw_04_27_2022___13_59_29.csv', '/content/drive/MyDrive/CalciumImaging_Lur のコピー/mice_datasets/m12lr/s0/04_28_2022___16_36_24/calcium_raw_04_28_2022___16_36_24.csv', '/content/drive/MyDrive/CalciumImaging_Lur のコピー/mice_datasets/m12lr/s0/05_04_2022___11_06_05/calcium_raw_05_04_2022___11_06_05.csv', '/content/drive/MyDrive/CalciumImaging_Lur のコピー/mice_datasets/m12lr/s1/05_05_2022___16_12_21/calcium_raw_05_05_2022___16_12_21.csv', '/content/drive/MyDrive/CalciumImaging_Lur のコピー/mice_datasets/m12lr/s1/05_06_2022___10_48_46/calcium_raw_05_06_2022___10_48_46.csv', '/content/drive/MyDrive/CalciumImaging_Lur のコピー/mice_datasets/m12lr/s1/05_09_2022___17_22_31/calcium_raw_05_09_2022___17_22_31.csv', '/content/drive/MyDrive/CalciumImaging_Lur のコピー/mice_datasets/m12lr/s1/05_10_2022___13_54_13/calcium_raw_05_10_2022___13_54_13.csv', '/content/drive/MyDrive/CalciumImaging_Lur のコピー/mice_datasets/m12lr/s1/05_11_2022___12_24_04/calcium_raw_05_11_2022___12_24_04.csv', '/content/drive/MyDrive/CalciumImaging_Lur のコピー/mice_datasets/m12lr/s1/05_12_2022___13_28_46/calcium_raw_05_12_2022___13_28_46.csv', '/content/drive/MyDrive/CalciumImaging_Lur のコピー/mice_datasets/m12lr/s2/05_17_2022___16_15_20/calcium_raw_05_17_2022___16_15_20.csv', '/content/drive/MyDrive/CalciumImaging_Lur のコピー/mice_datasets/m12lr/s2/05_18_2022___13_28_32/calcium_raw_05_18_2022___13_28_32.csv', '/content/drive/MyDrive/CalciumImaging_Lur のコピー/mice_datasets/m12lr/s2/05_20_2022___15_00_32/calcium_raw_05_20_2022___15_00_32.csv', '/content/drive/MyDrive/CalciumImaging_Lur のコピー/mice_datasets/m12lr/s2/05_23_2022___13_56_29/calcium_raw_05_23_2022___13_56_29.csv']\n"
          ]
        }
      ],
      "source": [
        "paths = [\"/content/drive/MyDrive/CalciumImaging_Lur のコピー/mice_datasets/m12lr/s0/04_27_2022___13_59_29/calcium_raw_04_27_2022___13_59_29.csv\",\n",
        "         \"/content/drive/MyDrive/CalciumImaging_Lur のコピー/mice_datasets/m12lr/s0/04_28_2022___16_36_24/calcium_raw_04_28_2022___16_36_24.csv\",\n",
        "         #\"/content/drive/MyDrive/CalciumImaging_Lur のコピー/mice_datasets/m12lr/s0/05_03_2022___17_16_41/calcium_raw_05_03_2022___17_16_41.csv\",\n",
        "         \"/content/drive/MyDrive/CalciumImaging_Lur のコピー/mice_datasets/m12lr/s0/05_04_2022___11_06_05/calcium_raw_05_04_2022___11_06_05.csv\",\n",
        "         \"/content/drive/MyDrive/CalciumImaging_Lur のコピー/mice_datasets/m12lr/s1/05_05_2022___16_12_21/calcium_raw_05_05_2022___16_12_21.csv\",\n",
        "         \"/content/drive/MyDrive/CalciumImaging_Lur のコピー/mice_datasets/m12lr/s1/05_06_2022___10_48_46/calcium_raw_05_06_2022___10_48_46.csv\",\n",
        "         \"/content/drive/MyDrive/CalciumImaging_Lur のコピー/mice_datasets/m12lr/s1/05_09_2022___17_22_31/calcium_raw_05_09_2022___17_22_31.csv\",\n",
        "         \"/content/drive/MyDrive/CalciumImaging_Lur のコピー/mice_datasets/m12lr/s1/05_10_2022___13_54_13/calcium_raw_05_10_2022___13_54_13.csv\",\n",
        "         \"/content/drive/MyDrive/CalciumImaging_Lur のコピー/mice_datasets/m12lr/s1/05_11_2022___12_24_04/calcium_raw_05_11_2022___12_24_04.csv\",\n",
        "         \"/content/drive/MyDrive/CalciumImaging_Lur のコピー/mice_datasets/m12lr/s1/05_12_2022___13_28_46/calcium_raw_05_12_2022___13_28_46.csv\",\n",
        "         \"/content/drive/MyDrive/CalciumImaging_Lur のコピー/mice_datasets/m12lr/s2/05_17_2022___16_15_20/calcium_raw_05_17_2022___16_15_20.csv\",\n",
        "         \"/content/drive/MyDrive/CalciumImaging_Lur のコピー/mice_datasets/m12lr/s2/05_18_2022___13_28_32/calcium_raw_05_18_2022___13_28_32.csv\",\n",
        "         \"/content/drive/MyDrive/CalciumImaging_Lur のコピー/mice_datasets/m12lr/s2/05_20_2022___15_00_32/calcium_raw_05_20_2022___15_00_32.csv\",\n",
        "         \"/content/drive/MyDrive/CalciumImaging_Lur のコピー/mice_datasets/m12lr/s2/05_23_2022___13_56_29/calcium_raw_05_23_2022___13_56_29.csv\"]\n",
        "\n",
        "params = [\"/content/drive/MyDrive/CalciumImaging_Lur のコピー/mice_datasets/m12lr/s0/04_27_2022___13_59_29/trial_parameters_04_27_2022___13_59_29.csv\",\n",
        "         \"/content/drive/MyDrive/CalciumImaging_Lur のコピー/mice_datasets/m12lr/s0/04_28_2022___16_36_24/trial_parameters_04_28_2022___16_36_24.csv\",\n",
        "         #\"/content/drive/MyDrive/CalciumImaging_Lur のコピー/mice_datasets/m12lr/s0/05_03_2022___17_16_41/trial_parameters_05_03_2022___17_16_41.csv\",\n",
        "         \"/content/drive/MyDrive/CalciumImaging_Lur のコピー/mice_datasets/m12lr/s0/05_04_2022___11_06_05/trial_parameters_05_04_2022___11_06_05.csv\",\n",
        "         \"/content/drive/MyDrive/CalciumImaging_Lur のコピー/mice_datasets/m12lr/s1/05_05_2022___16_12_21/trial_parameters_05_05_2022___16_12_21.csv\",\n",
        "         \"/content/drive/MyDrive/CalciumImaging_Lur のコピー/mice_datasets/m12lr/s1/05_06_2022___10_48_46/trial_parameters_05_06_2022___10_48_46.csv\",\n",
        "         \"/content/drive/MyDrive/CalciumImaging_Lur のコピー/mice_datasets/m12lr/s1/05_09_2022___17_22_31/trial_parameters_05_09_2022___17_22_31.csv\",\n",
        "         \"/content/drive/MyDrive/CalciumImaging_Lur のコピー/mice_datasets/m12lr/s1/05_10_2022___13_54_13/trial_parameters_05_10_2022___13_54_13.csv\",\n",
        "         \"/content/drive/MyDrive/CalciumImaging_Lur のコピー/mice_datasets/m12lr/s1/05_11_2022___12_24_04/trial_parameters_05_11_2022___12_24_04.csv\",\n",
        "         \"/content/drive/MyDrive/CalciumImaging_Lur のコピー/mice_datasets/m12lr/s1/05_12_2022___13_28_46/trial_parameters_05_12_2022___13_28_46.csv\",\n",
        "         \"/content/drive/MyDrive/CalciumImaging_Lur のコピー/mice_datasets/m12lr/s2/05_17_2022___16_15_20/trial_parameters_05_17_2022___16_15_20.csv\",\n",
        "         \"/content/drive/MyDrive/CalciumImaging_Lur のコピー/mice_datasets/m12lr/s2/05_18_2022___13_28_32/trial_parameters_05_18_2022___13_28_32.csv\",\n",
        "         \"/content/drive/MyDrive/CalciumImaging_Lur のコピー/mice_datasets/m12lr/s2/05_20_2022___15_00_32/trial_parameters_05_20_2022___15_00_32.csv\",\n",
        "         \"/content/drive/MyDrive/CalciumImaging_Lur のコピー/mice_datasets/m12lr/s2/05_23_2022___13_56_29/trial_parameters_05_23_2022___13_56_29.csv\"]\n",
        "\n",
        "labels = [0,\n",
        "          0,\n",
        "          #0,\n",
        "          0,\n",
        "          1,\n",
        "          1,\n",
        "          1,\n",
        "          1,\n",
        "          1,\n",
        "          1,\n",
        "          2,\n",
        "          2,\n",
        "          2,\n",
        "          2]\n",
        "\n",
        "print(np.shape(paths),np.shape(params),np.shape(labels))"
      ]
    },
    {
      "cell_type": "code",
      "source": [
        "paths = [\"/content/drive/MyDrive/CalciumImaging_Lur のコピー/mice_datasets/m15n/s0/05_31_2022___17_07_11/calcium_raw_05_31_2022___17_07_11.csv\",\n",
        "         #\"/content/drive/MyDrive/CalciumImaging_Lur のコピー/mice_datasets/m15n/s1/06_06_2022___11_16_46/calcium_raw_06_06_2022___11_16_46.csv\",\n",
        "         \"/content/drive/MyDrive/CalciumImaging_Lur のコピー/mice_datasets/m15n/s1/06_07_2022___09_56_19/calcium_raw_06_07_2022___09_56_19.csv\",\n",
        "         \"/content/drive/MyDrive/CalciumImaging_Lur のコピー/mice_datasets/m15n/s1/06_08_2022___10_33_27/calcium_raw_06_08_2022___10_33_27.csv\",\n",
        "         \"/content/drive/MyDrive/CalciumImaging_Lur のコピー/mice_datasets/m15n/s1/06_09_2022___10_46_33/calcium_raw_06_09_2022___10_46_33.csv\",\n",
        "         \"/content/drive/MyDrive/CalciumImaging_Lur のコピー/mice_datasets/m15n/s1/06_13_2022___12_16_24/calcium_raw_06_13_2022___12_16_24.csv\",\n",
        "         \"/content/drive/MyDrive/CalciumImaging_Lur のコピー/mice_datasets/m15n/s1/06_14_2022___11_32_27/calcium_raw_06_14_2022___11_32_27.csv\",\n",
        "         \"/content/drive/MyDrive/CalciumImaging_Lur のコピー/mice_datasets/m15n/s1/09_12_2022___11_59_23/calcium_raw_09_12_2022___11_59_23.csv\",\n",
        "         \"/content/drive/MyDrive/CalciumImaging_Lur のコピー/mice_datasets/m15n/s1/09_13_2022___15_07_02/calcium_raw_09_13_2022___15_07_02.csv\",\n",
        "         \"/content/drive/MyDrive/CalciumImaging_Lur のコピー/mice_datasets/m15n/s1/09_14_2022___13_49_35/calcium_raw_09_14_2022___13_49_35.csv\",\n",
        "         \"/content/drive/MyDrive/CalciumImaging_Lur のコピー/mice_datasets/m15n/s2/06_15_2022___12_52_13/calcium_raw_06_15_2022___12_52_13.csv\",\n",
        "         \"/content/drive/MyDrive/CalciumImaging_Lur のコピー/mice_datasets/m15n/s2/06_17_2022___12_11_05/calcium_raw_06_17_2022___12_11_05.csv\",\n",
        "         \"/content/drive/MyDrive/CalciumImaging_Lur のコピー/mice_datasets/m15n/s2/09_16_2022___13_58_41/calcium_raw_09_16_2022___13_58_41.csv\",\n",
        "         \"/content/drive/MyDrive/CalciumImaging_Lur のコピー/mice_datasets/m15n/s2/09_19_2022___11_33_25/calcium_raw_09_19_2022___11_33_25.csv\"]\n",
        "params = [\"/content/drive/MyDrive/CalciumImaging_Lur のコピー/mice_datasets/m15n/s0/05_31_2022___17_07_11/trial_parameters_05_31_2022___17_07_11.csv\",\n",
        "         #\"/content/drive/MyDrive/CalciumImaging_Lur のコピー/mice_datasets/m15n/s1/06_06_2022___11_16_46/trial_parameters_06_06_2022___11_16_46.csv\",\n",
        "         \"/content/drive/MyDrive/CalciumImaging_Lur のコピー/mice_datasets/m15n/s1/06_07_2022___09_56_19/trial_parameters_06_07_2022___09_56_19.csv\",\n",
        "         \"/content/drive/MyDrive/CalciumImaging_Lur のコピー/mice_datasets/m15n/s1/06_08_2022___10_33_27/trial_parameters_06_08_2022___10_33_27.csv\",\n",
        "         \"/content/drive/MyDrive/CalciumImaging_Lur のコピー/mice_datasets/m15n/s1/06_09_2022___10_46_33/trial_parameters_06_09_2022___10_46_33.csv\",\n",
        "         \"/content/drive/MyDrive/CalciumImaging_Lur のコピー/mice_datasets/m15n/s1/06_13_2022___12_16_24/trial_parameters_06_13_2022___12_16_24.csv\",\n",
        "         \"/content/drive/MyDrive/CalciumImaging_Lur のコピー/mice_datasets/m15n/s1/06_14_2022___11_32_27/trial_parameters_06_14_2022___11_32_27.csv\",\n",
        "         \"/content/drive/MyDrive/CalciumImaging_Lur のコピー/mice_datasets/m15n/s1/09_12_2022___11_59_23/trial_parameters_09_12_2022___11_59_23.csv\",\n",
        "         \"/content/drive/MyDrive/CalciumImaging_Lur のコピー/mice_datasets/m15n/s1/09_13_2022___15_07_02/trial_parameters_09_13_2022___15_07_02.csv\",\n",
        "         \"/content/drive/MyDrive/CalciumImaging_Lur のコピー/mice_datasets/m15n/s1/09_14_2022___13_49_35/trial_parameters_09_14_2022___13_49_35.csv\",\n",
        "         \"/content/drive/MyDrive/CalciumImaging_Lur のコピー/mice_datasets/m15n/s2/06_15_2022___12_52_13/trial_parameters_06_15_2022___12_52_13.csv\",\n",
        "         \"/content/drive/MyDrive/CalciumImaging_Lur のコピー/mice_datasets/m15n/s2/06_17_2022___12_11_05/trial_parameters_06_17_2022___12_11_05.csv\",\n",
        "         \"/content/drive/MyDrive/CalciumImaging_Lur のコピー/mice_datasets/m15n/s2/09_16_2022___13_58_41/trial_parameters_09_16_2022___13_58_41.csv\",\n",
        "         \"/content/drive/MyDrive/CalciumImaging_Lur のコピー/mice_datasets/m15n/s2/09_19_2022___11_33_25/trial_parameters_09_19_2022___11_33_25.csv\"]\n",
        "labels = [0,\n",
        "          #1,\n",
        "          1,\n",
        "          1,\n",
        "          1,\n",
        "          1,\n",
        "          1,\n",
        "          1,\n",
        "          1,\n",
        "          1,\n",
        "          2,\n",
        "          2,\n",
        "          2,\n",
        "          2,\n",
        "          ]"
      ],
      "metadata": {
        "id": "uu_MYl4x4E-V"
      },
      "execution_count": 3,
      "outputs": []
    },
    {
      "cell_type": "code",
      "source": [
        "#paths = []"
      ],
      "metadata": {
        "id": "tCG20ajulAXG"
      },
      "execution_count": null,
      "outputs": []
    },
    {
      "cell_type": "code",
      "source": [
        "#m11\n",
        "paths = [\"/content/drive/MyDrive/CalciumImaging_Lur のコピー/mice_datasets/m11n/s0/05_04_2022___13_03_53/calcium_raw_05_04_2022___13_03_53.csv\",\n",
        "         \"/content/drive/MyDrive/CalciumImaging_Lur のコピー/mice_datasets/m11n/s0/05_05_2022___16_57_34/calcium_raw_05_05_2022___16_57_34.csv\",\n",
        "         \"/content/drive/MyDrive/CalciumImaging_Lur のコピー/mice_datasets/m11n/s1/05_06_2022___15_20_00/calcium_raw_05_06_2022___15_20_00.csv\",\n",
        "         \"/content/drive/MyDrive/CalciumImaging_Lur のコピー/mice_datasets/m11n/s1/05_09_2022___11_58_56/calcium_raw_05_09_2022___11_58_56.csv\",\n",
        "         \"/content/drive/MyDrive/CalciumImaging_Lur のコピー/mice_datasets/m11n/s1/05_10_2022___15_39_21/calcium_raw_05_10_2022___15_39_21.csv\"]\n",
        "\n",
        "params = [\"/content/drive/MyDrive/CalciumImaging_Lur のコピー/mice_datasets/m11n/s0/05_04_2022___13_03_53/trial_parameters_05_04_2022___13_03_53.csv\",\n",
        "          \"/content/drive/MyDrive/CalciumImaging_Lur のコピー/mice_datasets/m11n/s0/05_05_2022___16_57_34/trial_parameters_05_05_2022___16_57_34.csv\",\n",
        "          \"/content/drive/MyDrive/CalciumImaging_Lur のコピー/mice_datasets/m11n/s1/05_06_2022___15_20_00/trial_parameters_05_06_2022___15_20_00.csv\",\n",
        "          \"/content/drive/MyDrive/CalciumImaging_Lur のコピー/mice_datasets/m11n/s1/05_09_2022___11_58_56/trial_parameters_05_09_2022___11_58_56.csv\",\n",
        "          \"/content/drive/MyDrive/CalciumImaging_Lur のコピー/mice_datasets/m11n/s1/05_10_2022___15_39_21/trial_parameters_05_10_2022___15_39_21.csv\"]\n",
        "labels = [0,0,1,1,1]"
      ],
      "metadata": {
        "id": "bAAeh5UdhvL9"
      },
      "execution_count": null,
      "outputs": []
    },
    {
      "cell_type": "code",
      "source": [
        "#Buggy one\n",
        "paths = [\"/content/drive/MyDrive/CalciumImaging_Lur のコピー/mice_datasets/m15n/s1/06_06_2022___11_16_46/calcium_raw_06_06_2022___11_16_46.csv\"]\n",
        "params = [\"/content/drive/MyDrive/CalciumImaging_Lur のコピー/mice_datasets/m15n/s1/06_06_2022___11_16_46/trial_parameters_06_06_2022___11_16_46.csv\"]\n",
        "labels = [1]"
      ],
      "metadata": {
        "id": "Y844NBUjNzdi"
      },
      "execution_count": null,
      "outputs": []
    },
    {
      "cell_type": "code",
      "execution_count": null,
      "metadata": {
        "id": "TgOo5Uw9csj8"
      },
      "outputs": [],
      "source": [
        "paths = [\"/content/drive/MyDrive/CalciumImaging_Lur のコピー/mice_datasets/m12lr/s2/05_23_2022___13_56_29/calcium_raw_05_23_2022___13_56_29.csv\"]\n",
        "\n",
        "params = [\"/content/drive/MyDrive/CalciumImaging_Lur のコピー/mice_datasets/m12lr/s2/05_23_2022___13_56_29/trial_parameters_05_23_2022___13_56_29.csv\"]\n",
        "\n",
        "labels = [2]"
      ]
    },
    {
      "cell_type": "code",
      "execution_count": 5,
      "metadata": {
        "id": "Dyr_GvYVT-vz"
      },
      "outputs": [],
      "source": [
        "#trials = 1\n",
        "#max_freq = 13\n",
        "#min_acc = 0.9\n",
        "#sessions = np.shape(labels)[0]\n",
        "\n",
        "def gen_noise():\n",
        "    return np.random.rd()\n",
        "\n",
        "def gen_super_mat(saveto, paths, params, labels, paradigm, max_freq=13, trials=100):\n",
        "    axis_0 = int(0.5 * max_freq * (max_freq-1))+1 #axis_0 = 1225+1 for max_freq = 50 ref\n",
        "    super_mat = np.zeros((axis_0,4,trials,np.shape(labels)[0]))\n",
        "    progress_model = IntProgress(min=0, max=int(0.5 * max_freq * (max_freq-1)),description=\"Model 0/0\")\n",
        "    progress_trial = IntProgress(min=0, max=trials,description=\"Trial 0/\" + str(trials))\n",
        "    progress_session = IntProgress(min=0, max=np.shape(labels)[0], description=\"Session 0/\"+ str(np.shape(labels)[0]))\n",
        "    #print(\"Progress\")\n",
        "    display(progress_model)\n",
        "    display(progress_trial)\n",
        "    display(progress_session)\n",
        "    '''\n",
        "    print(\"Results\")\n",
        "    max_acc = IntProgress(min=0,max=100, description=\"Max Acc \" + str(0) + \"/100\")\n",
        "    max_acc.description = \"Max Acc \" + str(max_acc.value) + \"/100\"\n",
        "    '''\n",
        "    for session in range(np.shape(labels)[0]):\n",
        "        session_number = str(session) + \"/\" + str(np.shape(labels)[0])\n",
        "        if labels[session]==0:\n",
        "            super_mat[:,:,:,session] = fil_s0(paths[session],params[session],session_number,progress_model,progress_trial,paradigm,max_freq,trials)\n",
        "        elif labels[session]==1:\n",
        "            super_mat[:,:,:,session] = fil_s1(paths[session],params[session],session_number,progress_model,progress_trial,paradigm,max_freq,trials)\n",
        "        elif labels[session]==2:\n",
        "            super_mat[:,:,:,session] = fil_s2(paths[session],params[session],session_number,progress_model,progress_trial,paradigm,max_freq,trials)\n",
        "        else:\n",
        "            print(\"mislabel present\")\n",
        "        np.save(saveto, super_mat)\n",
        "        progress_session.value+=1\n",
        "        progress_session.description = \"Session \" + str(progress_session.value) + \"/\" + str(np.shape(labels)[0])\n",
        "    return super_mat\n",
        "\n",
        "def fil_s0(data_path, params,session_number,progress_model, progress_trial,paradigm,max_freq,trials):\n",
        "    output = np.zeros((int(0.5 * max_freq * (max_freq-1))+1,4,trials))\n",
        "    progress_trial.value = 0\n",
        "    data = np.genfromtxt(data_path, delimiter = \",\")[1:,1:]\n",
        "    for trial in range(trials):\n",
        "        #print(\"starting trial\", trial, \"s0\", session_number)\n",
        "        count = 0\n",
        "        progress_model.value=0  \n",
        "        for upper_freq in range(max_freq):\n",
        "            for lower_freq in range(upper_freq):\n",
        "                b = temp(data, params, k=lower_freq, length=upper_freq, paradigm=paradigm, res=\"rand\")# adjust as needed\n",
        "                count+=1\n",
        "                progress_model.value+=1\n",
        "                progress_model.description = \"Model \" + str(count) + \"/\" +str(int(0.5*max_freq*(max_freq-1)))\n",
        "                output[count,:,trial] = output[count,:,trial] + np.array([b.acc, b.nacc, lower_freq, upper_freq])\n",
        "                #if (b.acc>min_acc):print(b.acc, \",\", lower_freq, \",\", upper_freq)\n",
        "        progress_trial.value+=1\n",
        "        progress_trial.description = \"Trial \" + str(progress_trial.value) + \"/\" + str(trials)\n",
        "    return output\n",
        "\n",
        "def fil_s1(data_path, params,session_number,progress_model,progress_trial,paradigm,max_freq,trials):\n",
        "    output = np.zeros((int(0.5 * max_freq * (max_freq-1))+1,4,trials))\n",
        "    progress_trial.value = 0\n",
        "    data = np.genfromtxt(data_path, delimiter = \",\")[1:,1:]\n",
        "    for trial in range(trials):\n",
        "        #print(\"starting trial\", trial, \"s1\", session_number)\n",
        "        count = 0\n",
        "        progress_model.value=0\n",
        "        for upper_freq in range(max_freq):\n",
        "            for lower_freq in range(upper_freq):\n",
        "                b = temp(data, params, k=lower_freq, length=upper_freq, paradigm=paradigm)\n",
        "                count+=1\n",
        "                progress_model.value+=1\n",
        "                progress_model.description = \"Model \" + str(count) + \"/\" +str(int(0.5*max_freq*(max_freq-1)))\n",
        "                output[count,:,trial] = output[count,:,trial] + np.array([b.acc, b.nacc, lower_freq, upper_freq])\n",
        "                #if (b.acc>min_acc):print(b.acc, \",\", lower_freq, \",\", upper_freq)\n",
        "        progress_trial.value+=1\n",
        "        progress_trial.description = \"Trial \" + str(progress_trial.value) + \"/\" + str(trials)\n",
        "    return output\n",
        "\n",
        "def fil_s2(data_path, params,session_number,progress_model,progress_trial,paradigm,max_freq,trials):\n",
        "    output = np.zeros((int(0.5 * max_freq * (max_freq-1))+1,4,trials))\n",
        "    progress_trial.value = 0\n",
        "    data = np.genfromtxt(data_path, delimiter = \",\")[1:,1:]\n",
        "    for trial in range(trials):\n",
        "        #print(\"starting trial\", trial, \"s2\", session_number)\n",
        "        count = 0\n",
        "        progress_model.value=0\n",
        "        for upper_freq in range(max_freq):\n",
        "            for lower_freq in range(upper_freq):\n",
        "                b = temp(data, params, k=lower_freq, length=upper_freq, mode=False, paradigm=paradigm)\n",
        "                count+=1\n",
        "                progress_model.value+=1\n",
        "                progress_model.description = \"Model \" + str(count) + \"/\" +str(int(0.5*max_freq*(max_freq-1)))\n",
        "                output[count,:,trial] = output[count,:,trial] + np.array([b.acc, b.nacc, lower_freq, upper_freq])\n",
        "                #if (b.acc>min_acc):print(b.acc, \",\", lower_freq, \",\", upper_freq)\n",
        "        progress_trial.value+=1\n",
        "        progress_trial.description = \"Trial \" + str(progress_trial.value) + \"/\" + str(trials)\n",
        "    return output"
      ]
    },
    {
      "cell_type": "code",
      "execution_count": 7,
      "metadata": {
        "colab": {
          "base_uri": "https://localhost:8080/",
          "height": 109,
          "referenced_widgets": [
            "e68ccb8be93a417791ad05e2e70b94b3",
            "1c919f3de14a413483a113fce1b31678",
            "9b94bf65565b4c3e80a9d05233c6f7fb",
            "fcc2ba646ea84b6f9fb1ab36cfe09780",
            "ea26cd3955024ca3adb3e18bbb6a3b5a",
            "e2b72bc7f3eb4ddda9a53e338c8a6603",
            "77e6ba111a224f14937d328f45aa429b",
            "3ac9a83728f740199ea8e23a081a2a77",
            "8dd051e68960450bb82e1e9fed480255"
          ]
        },
        "id": "pD-lB63LYXzk",
        "outputId": "7c99921c-15dc-49ad-9005-aee1dbfad84f"
      },
      "outputs": [
        {
          "output_type": "display_data",
          "data": {
            "text/plain": [
              "IntProgress(value=0, description='Model 0/0', max=78)"
            ],
            "application/vnd.jupyter.widget-view+json": {
              "version_major": 2,
              "version_minor": 0,
              "model_id": "e68ccb8be93a417791ad05e2e70b94b3"
            }
          },
          "metadata": {}
        },
        {
          "output_type": "display_data",
          "data": {
            "text/plain": [
              "IntProgress(value=0, description='Trial 0/1', max=1)"
            ],
            "application/vnd.jupyter.widget-view+json": {
              "version_major": 2,
              "version_minor": 0,
              "model_id": "fcc2ba646ea84b6f9fb1ab36cfe09780"
            }
          },
          "metadata": {}
        },
        {
          "output_type": "display_data",
          "data": {
            "text/plain": [
              "IntProgress(value=0, description='Session 0/13', max=13)"
            ],
            "application/vnd.jupyter.widget-view+json": {
              "version_major": 2,
              "version_minor": 0,
              "model_id": "77e6ba111a224f14937d328f45aa429b"
            }
          },
          "metadata": {}
        }
      ],
      "source": [
        "super_mat = gen_super_mat(\"m15ci\",paths,params,labels,paradigm=\"CI\",max_freq=13,trials=1)"
      ]
    },
    {
      "cell_type": "code",
      "source": [
        "np.save(\"/content/drive/MyDrive/m15ci\",super_mat)"
      ],
      "metadata": {
        "id": "SDT5ZSl8GpmT"
      },
      "execution_count": null,
      "outputs": []
    },
    {
      "cell_type": "markdown",
      "metadata": {
        "id": "gqeFZOkN6TW1"
      },
      "source": [
        "## Analysis"
      ]
    },
    {
      "cell_type": "code",
      "source": [
        "session = 2\n",
        "print(100*np.mean(super_mat,axis=2)[:,:,session])"
      ],
      "metadata": {
        "colab": {
          "base_uri": "https://localhost:8080/"
        },
        "id": "iOXqFTCFmGqG",
        "outputId": "f2d89c2c-7227-4ce0-f19e-4592ed51fd4f"
      },
      "execution_count": 17,
      "outputs": [
        {
          "output_type": "stream",
          "name": "stdout",
          "text": [
            "[[   0.        0.        0.        0.    ]\n",
            " [  80.3929   49.1273    0.      100.    ]\n",
            " [  82.4643   50.4545    0.      200.    ]\n",
            " [  75.3571   49.5091  100.      200.    ]\n",
            " [  81.3571   50.5182    0.      300.    ]\n",
            " [  80.4286   50.0273  100.      300.    ]\n",
            " [  80.5      50.0364  200.      300.    ]\n",
            " [  82.3929   50.7091    0.      400.    ]\n",
            " [  80.6786   50.2091  100.      400.    ]\n",
            " [  82.25     50.2     200.      400.    ]\n",
            " [  79.2857   49.6182  300.      400.    ]\n",
            " [  82.1071   49.6       0.      500.    ]\n",
            " [  82.0714   49.8727  100.      500.    ]\n",
            " [  83.5357   50.6364  200.      500.    ]\n",
            " [  82.3571   49.4091  300.      500.    ]\n",
            " [  73.2857   49.5545  400.      500.    ]\n",
            " [  80.8571   49.6       0.      600.    ]\n",
            " [  85.1786   49.4455  100.      600.    ]\n",
            " [  85.8571   49.9273  200.      600.    ]\n",
            " [  84.75     50.1818  300.      600.    ]\n",
            " [  84.6786   50.5455  400.      600.    ]\n",
            " [  83.7143   48.9091  500.      600.    ]\n",
            " [  81.3929   49.9909    0.      700.    ]\n",
            " [  84.7143   50.0636  100.      700.    ]\n",
            " [  84.9643   50.4364  200.      700.    ]\n",
            " [  86.5357   49.7636  300.      700.    ]\n",
            " [  86.0357   50.5455  400.      700.    ]\n",
            " [  85.6429   49.6182  500.      700.    ]\n",
            " [  80.5714   49.8091  600.      700.    ]\n",
            " [  82.2857   50.3273    0.      800.    ]\n",
            " [  85.9286   49.4364  100.      800.    ]\n",
            " [  86.3929   49.8818  200.      800.    ]\n",
            " [  87.0357   50.2364  300.      800.    ]\n",
            " [  86.7857   50.0545  400.      800.    ]\n",
            " [  85.9643   49.9909  500.      800.    ]\n",
            " [  85.2857   49.7     600.      800.    ]\n",
            " [  80.1071   49.5091  700.      800.    ]\n",
            " [  81.8571   50.3909    0.      900.    ]\n",
            " [  87.0714   49.9091  100.      900.    ]\n",
            " [  86.6429   49.8909  200.      900.    ]\n",
            " [  87.1786   50.3727  300.      900.    ]\n",
            " [  86.3929   49.6182  400.      900.    ]\n",
            " [  86.9643   50.5727  500.      900.    ]\n",
            " [  86.1429   50.0818  600.      900.    ]\n",
            " [  83.4286   49.6455  700.      900.    ]\n",
            " [  81.4643   49.8545  800.      900.    ]\n",
            " [  81.5714   49.6364    0.     1000.    ]\n",
            " [  87.3571   50.2636  100.     1000.    ]\n",
            " [  87.2857   49.0091  200.     1000.    ]\n",
            " [  87.7857   49.8818  300.     1000.    ]\n",
            " [  86.9643   49.8091  400.     1000.    ]\n",
            " [  87.5357   49.8273  500.     1000.    ]\n",
            " [  87.6429   50.2364  600.     1000.    ]\n",
            " [  86.3214   50.2182  700.     1000.    ]\n",
            " [  85.7143   49.2818  800.     1000.    ]\n",
            " [  81.2143   49.6     900.     1000.    ]\n",
            " [  82.6429   50.4636    0.     1100.    ]\n",
            " [  88.25     50.2727  100.     1100.    ]\n",
            " [  87.3571   50.5364  200.     1100.    ]\n",
            " [  88.6429   49.1727  300.     1100.    ]\n",
            " [  87.9286   49.8273  400.     1100.    ]\n",
            " [  88.3214   50.1455  500.     1100.    ]\n",
            " [  89.1429   50.5     600.     1100.    ]\n",
            " [  89.8929   50.3364  700.     1100.    ]\n",
            " [  88.5      49.5727  800.     1100.    ]\n",
            " [  86.8571   50.3     900.     1100.    ]\n",
            " [  79.0357   50.2    1000.     1100.    ]\n",
            " [  82.3571   50.6545    0.     1200.    ]\n",
            " [  88.1786   49.9     100.     1200.    ]\n",
            " [  87.4286   50.3364  200.     1200.    ]\n",
            " [  88.3214   49.8636  300.     1200.    ]\n",
            " [  86.9643   50.2182  400.     1200.    ]\n",
            " [  88.4643   49.3455  500.     1200.    ]\n",
            " [  87.9286   50.1727  600.     1200.    ]\n",
            " [  89.4286   49.7636  700.     1200.    ]\n",
            " [  87.8929   50.2909  800.     1200.    ]\n",
            " [  86.0714   49.5455  900.     1200.    ]\n",
            " [  83.0714   49.1091 1000.     1200.    ]\n",
            " [  77.4286   49.9182 1100.     1200.    ]]\n"
          ]
        }
      ]
    },
    {
      "cell_type": "markdown",
      "metadata": {
        "id": "fA4F5qWp8Zru"
      },
      "source": [
        "## Numerical"
      ]
    },
    {
      "cell_type": "code",
      "execution_count": 8,
      "metadata": {
        "id": "hPnQ-SCK6T47"
      },
      "outputs": [],
      "source": [
        "def analyze(total_dataset, parameters):\n",
        "    '''\n",
        "    axis_0 = Predictions within a given randomization\n",
        "    axis_1 = Recorded Information from a given prediction\n",
        "    axis_2 = Randomization iteration\n",
        "    axis_3 = Session (not accounted for in this function)\n",
        "    '''\n",
        "\n",
        "    col = 0\n",
        "    output = np.zeros((np.shape(total_dataset)[0], np.shape(parameters)[0], np.shape(total_dataset)[3]))\n",
        "    for parameter in parameters:\n",
        "        param = getattr(np, parameter)\n",
        "        #print(param(total_dataset, axis=2))\n",
        "        output[:, col,:] = param(total_dataset, axis=2)[:,0]\n",
        "        col += 1\n",
        "    #print(\"output\", np.shape(output))\n",
        "    return output\n",
        "    #return np.reshape(output, (np.shape(parameters)[0], np.shape(total_dataset)[3]))\n",
        "    #return output"
      ]
    },
    {
      "cell_type": "code",
      "execution_count": 9,
      "metadata": {
        "colab": {
          "base_uri": "https://localhost:8080/"
        },
        "id": "HieKXMzbtqAw",
        "outputId": "07b8769e-1484-434f-a6b1-fd9731c2bc74"
      },
      "outputs": [
        {
          "output_type": "stream",
          "name": "stdout",
          "text": [
            "[[ 58.      20.1114  28.5714 100.    ]\n",
            " [ 64.5556  10.1243  48.1481  85.1852]\n",
            " [ 89.8929   7.4247  82.1429  96.4286]\n",
            " [ 86.5     10.956   66.6667 100.    ]\n",
            " [ 84.8     10.2294  70.     100.    ]\n",
            " [ 93.75     4.4651  93.75   100.    ]\n",
            " [ 78.1818  13.874   63.6364 100.    ]\n",
            " [ 76.5714  12.8037  64.2857  92.8571]\n",
            " [ 83.0667  10.9747  66.6667 100.    ]\n",
            " [ 62.9     15.9374  40.     100.    ]\n",
            " [ 70.65    10.5682  55.      90.    ]\n",
            " [ 57.4762  12.1166  38.0952  90.4762]\n",
            " [ 59.4167  10.1057  41.6667  83.3333]]\n"
          ]
        }
      ],
      "source": [
        "parameters = [\"mean\", \"std\", \"amin\", \"amax\"]\n",
        "\n",
        "#print(np.shape(super_mat))\n",
        "'''\n",
        "for session in range(np.shape(super_mat)[3]):\n",
        "    print(session, 100*np.amax(analyze(super_mat[:,:,:,session], parameters),axis=0))\n",
        "'''\n",
        "#print(\"super_mat\", np.shape(super_mat))\n",
        "print(100*np.transpose(np.amax(analyze(super_mat, parameters),axis=0)))"
      ]
    },
    {
      "cell_type": "markdown",
      "metadata": {
        "id": "oidhv9Zw8cQF"
      },
      "source": [
        "## Graphical"
      ]
    },
    {
      "cell_type": "code",
      "execution_count": null,
      "metadata": {
        "id": "hFO5WmaEWDn0"
      },
      "outputs": [],
      "source": []
    }
  ],
  "metadata": {
    "colab": {
      "provenance": []
    },
    "kernelspec": {
      "display_name": "Python 3",
      "name": "python3"
    },
    "language_info": {
      "name": "python"
    },
    "widgets": {
      "application/vnd.jupyter.widget-state+json": {
        "91a98ca1c3dc4b58b2a7038c6a661571": {
          "model_module": "@jupyter-widgets/controls",
          "model_name": "TextModel",
          "model_module_version": "1.5.0",
          "state": {
            "_dom_classes": [],
            "_model_module": "@jupyter-widgets/controls",
            "_model_module_version": "1.5.0",
            "_model_name": "TextModel",
            "_view_count": null,
            "_view_module": "@jupyter-widgets/controls",
            "_view_module_version": "1.5.0",
            "_view_name": "TextView",
            "continuous_update": true,
            "description": "Paths",
            "description_tooltip": null,
            "disabled": false,
            "layout": "IPY_MODEL_a5e8892fe30b4baa9bd3d3b555156df1",
            "placeholder": "​",
            "style": "IPY_MODEL_824729f5b2454dbd895337720d38ae05",
            "value": "12312313"
          }
        },
        "a5e8892fe30b4baa9bd3d3b555156df1": {
          "model_module": "@jupyter-widgets/base",
          "model_name": "LayoutModel",
          "model_module_version": "1.2.0",
          "state": {
            "_model_module": "@jupyter-widgets/base",
            "_model_module_version": "1.2.0",
            "_model_name": "LayoutModel",
            "_view_count": null,
            "_view_module": "@jupyter-widgets/base",
            "_view_module_version": "1.2.0",
            "_view_name": "LayoutView",
            "align_content": null,
            "align_items": null,
            "align_self": null,
            "border": null,
            "bottom": null,
            "display": null,
            "flex": null,
            "flex_flow": null,
            "grid_area": null,
            "grid_auto_columns": null,
            "grid_auto_flow": null,
            "grid_auto_rows": null,
            "grid_column": null,
            "grid_gap": null,
            "grid_row": null,
            "grid_template_areas": null,
            "grid_template_columns": null,
            "grid_template_rows": null,
            "height": null,
            "justify_content": null,
            "justify_items": null,
            "left": null,
            "margin": null,
            "max_height": null,
            "max_width": null,
            "min_height": null,
            "min_width": null,
            "object_fit": null,
            "object_position": null,
            "order": null,
            "overflow": null,
            "overflow_x": null,
            "overflow_y": null,
            "padding": null,
            "right": null,
            "top": null,
            "visibility": null,
            "width": null
          }
        },
        "824729f5b2454dbd895337720d38ae05": {
          "model_module": "@jupyter-widgets/controls",
          "model_name": "DescriptionStyleModel",
          "model_module_version": "1.5.0",
          "state": {
            "_model_module": "@jupyter-widgets/controls",
            "_model_module_version": "1.5.0",
            "_model_name": "DescriptionStyleModel",
            "_view_count": null,
            "_view_module": "@jupyter-widgets/base",
            "_view_module_version": "1.2.0",
            "_view_name": "StyleView",
            "description_width": ""
          }
        },
        "56987371b25d4176bef145796926203f": {
          "model_module": "@jupyter-widgets/controls",
          "model_name": "TextModel",
          "model_module_version": "1.5.0",
          "state": {
            "_dom_classes": [],
            "_model_module": "@jupyter-widgets/controls",
            "_model_module_version": "1.5.0",
            "_model_name": "TextModel",
            "_view_count": null,
            "_view_module": "@jupyter-widgets/controls",
            "_view_module_version": "1.5.0",
            "_view_name": "TextView",
            "continuous_update": true,
            "description": "Params",
            "description_tooltip": null,
            "disabled": false,
            "layout": "IPY_MODEL_582be7517b3b4a46917fa505f04ccdb6",
            "placeholder": "​",
            "style": "IPY_MODEL_1c4bfec3a80f4e4e82eae8a4d6006581",
            "value": ""
          }
        },
        "582be7517b3b4a46917fa505f04ccdb6": {
          "model_module": "@jupyter-widgets/base",
          "model_name": "LayoutModel",
          "model_module_version": "1.2.0",
          "state": {
            "_model_module": "@jupyter-widgets/base",
            "_model_module_version": "1.2.0",
            "_model_name": "LayoutModel",
            "_view_count": null,
            "_view_module": "@jupyter-widgets/base",
            "_view_module_version": "1.2.0",
            "_view_name": "LayoutView",
            "align_content": null,
            "align_items": null,
            "align_self": null,
            "border": null,
            "bottom": null,
            "display": null,
            "flex": null,
            "flex_flow": null,
            "grid_area": null,
            "grid_auto_columns": null,
            "grid_auto_flow": null,
            "grid_auto_rows": null,
            "grid_column": null,
            "grid_gap": null,
            "grid_row": null,
            "grid_template_areas": null,
            "grid_template_columns": null,
            "grid_template_rows": null,
            "height": null,
            "justify_content": null,
            "justify_items": null,
            "left": null,
            "margin": null,
            "max_height": null,
            "max_width": null,
            "min_height": null,
            "min_width": null,
            "object_fit": null,
            "object_position": null,
            "order": null,
            "overflow": null,
            "overflow_x": null,
            "overflow_y": null,
            "padding": null,
            "right": null,
            "top": null,
            "visibility": null,
            "width": null
          }
        },
        "1c4bfec3a80f4e4e82eae8a4d6006581": {
          "model_module": "@jupyter-widgets/controls",
          "model_name": "DescriptionStyleModel",
          "model_module_version": "1.5.0",
          "state": {
            "_model_module": "@jupyter-widgets/controls",
            "_model_module_version": "1.5.0",
            "_model_name": "DescriptionStyleModel",
            "_view_count": null,
            "_view_module": "@jupyter-widgets/base",
            "_view_module_version": "1.2.0",
            "_view_name": "StyleView",
            "description_width": ""
          }
        },
        "e4cbe117b017415a858230ec7d7b9a98": {
          "model_module": "@jupyter-widgets/controls",
          "model_name": "SelectionSliderModel",
          "model_module_version": "1.5.0",
          "state": {
            "_dom_classes": [],
            "_model_module": "@jupyter-widgets/controls",
            "_model_module_version": "1.5.0",
            "_model_name": "SelectionSliderModel",
            "_options_labels": [
              "0",
              "1",
              "2"
            ],
            "_view_count": null,
            "_view_module": "@jupyter-widgets/controls",
            "_view_module_version": "1.5.0",
            "_view_name": "SelectionSliderView",
            "continuous_update": true,
            "description": "Stage",
            "description_tooltip": null,
            "disabled": false,
            "index": 2,
            "layout": "IPY_MODEL_4eb73a717a3f4313b03409df447a1760",
            "orientation": "horizontal",
            "readout": true,
            "style": "IPY_MODEL_284ddefc463448258a9709f36829778b"
          }
        },
        "4eb73a717a3f4313b03409df447a1760": {
          "model_module": "@jupyter-widgets/base",
          "model_name": "LayoutModel",
          "model_module_version": "1.2.0",
          "state": {
            "_model_module": "@jupyter-widgets/base",
            "_model_module_version": "1.2.0",
            "_model_name": "LayoutModel",
            "_view_count": null,
            "_view_module": "@jupyter-widgets/base",
            "_view_module_version": "1.2.0",
            "_view_name": "LayoutView",
            "align_content": null,
            "align_items": null,
            "align_self": null,
            "border": null,
            "bottom": null,
            "display": null,
            "flex": null,
            "flex_flow": null,
            "grid_area": null,
            "grid_auto_columns": null,
            "grid_auto_flow": null,
            "grid_auto_rows": null,
            "grid_column": null,
            "grid_gap": null,
            "grid_row": null,
            "grid_template_areas": null,
            "grid_template_columns": null,
            "grid_template_rows": null,
            "height": null,
            "justify_content": null,
            "justify_items": null,
            "left": null,
            "margin": null,
            "max_height": null,
            "max_width": null,
            "min_height": null,
            "min_width": null,
            "object_fit": null,
            "object_position": null,
            "order": null,
            "overflow": null,
            "overflow_x": null,
            "overflow_y": null,
            "padding": null,
            "right": null,
            "top": null,
            "visibility": null,
            "width": null
          }
        },
        "284ddefc463448258a9709f36829778b": {
          "model_module": "@jupyter-widgets/controls",
          "model_name": "DescriptionStyleModel",
          "model_module_version": "1.5.0",
          "state": {
            "_model_module": "@jupyter-widgets/controls",
            "_model_module_version": "1.5.0",
            "_model_name": "DescriptionStyleModel",
            "_view_count": null,
            "_view_module": "@jupyter-widgets/base",
            "_view_module_version": "1.2.0",
            "_view_name": "StyleView",
            "description_width": ""
          }
        },
        "462a0e6d0a3f44fb9dff00473d102f11": {
          "model_module": "@jupyter-widgets/controls",
          "model_name": "HBoxModel",
          "model_module_version": "1.5.0",
          "state": {
            "_dom_classes": [],
            "_model_module": "@jupyter-widgets/controls",
            "_model_module_version": "1.5.0",
            "_model_name": "HBoxModel",
            "_view_count": null,
            "_view_module": "@jupyter-widgets/controls",
            "_view_module_version": "1.5.0",
            "_view_name": "HBoxView",
            "box_style": "",
            "children": [
              "IPY_MODEL_7af9725457bf4d35bc6b7611ebf0a6d2",
              "IPY_MODEL_926ae05d2cba4f73885658e0ac8f945b"
            ],
            "layout": "IPY_MODEL_e9f3e7465fd74d1582fce9a7ec428c93"
          }
        },
        "7af9725457bf4d35bc6b7611ebf0a6d2": {
          "model_module": "@jupyter-widgets/controls",
          "model_name": "ToggleButtonModel",
          "model_module_version": "1.5.0",
          "state": {
            "_dom_classes": [],
            "_model_module": "@jupyter-widgets/controls",
            "_model_module_version": "1.5.0",
            "_model_name": "ToggleButtonModel",
            "_view_count": null,
            "_view_module": "@jupyter-widgets/controls",
            "_view_module_version": "1.5.0",
            "_view_name": "ToggleButtonView",
            "button_style": "",
            "description": "Add",
            "description_tooltip": null,
            "disabled": false,
            "icon": "",
            "layout": "IPY_MODEL_da935392adc0487e8d4f4f494c4d076b",
            "style": "IPY_MODEL_0d688e78ffd240099332ed69c32eee62",
            "tooltip": "",
            "value": false
          }
        },
        "926ae05d2cba4f73885658e0ac8f945b": {
          "model_module": "@jupyter-widgets/controls",
          "model_name": "ToggleButtonModel",
          "model_module_version": "1.5.0",
          "state": {
            "_dom_classes": [],
            "_model_module": "@jupyter-widgets/controls",
            "_model_module_version": "1.5.0",
            "_model_name": "ToggleButtonModel",
            "_view_count": null,
            "_view_module": "@jupyter-widgets/controls",
            "_view_module_version": "1.5.0",
            "_view_name": "ToggleButtonView",
            "button_style": "",
            "description": "Done!",
            "description_tooltip": null,
            "disabled": false,
            "icon": "",
            "layout": "IPY_MODEL_1bfdeed130c24f98ae38f892376a1bca",
            "style": "IPY_MODEL_8c2ffce67d1d48e499350f38e1748b12",
            "tooltip": "",
            "value": false
          }
        },
        "e9f3e7465fd74d1582fce9a7ec428c93": {
          "model_module": "@jupyter-widgets/base",
          "model_name": "LayoutModel",
          "model_module_version": "1.2.0",
          "state": {
            "_model_module": "@jupyter-widgets/base",
            "_model_module_version": "1.2.0",
            "_model_name": "LayoutModel",
            "_view_count": null,
            "_view_module": "@jupyter-widgets/base",
            "_view_module_version": "1.2.0",
            "_view_name": "LayoutView",
            "align_content": null,
            "align_items": null,
            "align_self": null,
            "border": null,
            "bottom": null,
            "display": null,
            "flex": null,
            "flex_flow": null,
            "grid_area": null,
            "grid_auto_columns": null,
            "grid_auto_flow": null,
            "grid_auto_rows": null,
            "grid_column": null,
            "grid_gap": null,
            "grid_row": null,
            "grid_template_areas": null,
            "grid_template_columns": null,
            "grid_template_rows": null,
            "height": null,
            "justify_content": null,
            "justify_items": null,
            "left": null,
            "margin": null,
            "max_height": null,
            "max_width": null,
            "min_height": null,
            "min_width": null,
            "object_fit": null,
            "object_position": null,
            "order": null,
            "overflow": null,
            "overflow_x": null,
            "overflow_y": null,
            "padding": null,
            "right": null,
            "top": null,
            "visibility": null,
            "width": null
          }
        },
        "da935392adc0487e8d4f4f494c4d076b": {
          "model_module": "@jupyter-widgets/base",
          "model_name": "LayoutModel",
          "model_module_version": "1.2.0",
          "state": {
            "_model_module": "@jupyter-widgets/base",
            "_model_module_version": "1.2.0",
            "_model_name": "LayoutModel",
            "_view_count": null,
            "_view_module": "@jupyter-widgets/base",
            "_view_module_version": "1.2.0",
            "_view_name": "LayoutView",
            "align_content": null,
            "align_items": null,
            "align_self": null,
            "border": null,
            "bottom": null,
            "display": null,
            "flex": null,
            "flex_flow": null,
            "grid_area": null,
            "grid_auto_columns": null,
            "grid_auto_flow": null,
            "grid_auto_rows": null,
            "grid_column": null,
            "grid_gap": null,
            "grid_row": null,
            "grid_template_areas": null,
            "grid_template_columns": null,
            "grid_template_rows": null,
            "height": null,
            "justify_content": null,
            "justify_items": null,
            "left": null,
            "margin": null,
            "max_height": null,
            "max_width": null,
            "min_height": null,
            "min_width": null,
            "object_fit": null,
            "object_position": null,
            "order": null,
            "overflow": null,
            "overflow_x": null,
            "overflow_y": null,
            "padding": null,
            "right": null,
            "top": null,
            "visibility": null,
            "width": null
          }
        },
        "0d688e78ffd240099332ed69c32eee62": {
          "model_module": "@jupyter-widgets/controls",
          "model_name": "DescriptionStyleModel",
          "model_module_version": "1.5.0",
          "state": {
            "_model_module": "@jupyter-widgets/controls",
            "_model_module_version": "1.5.0",
            "_model_name": "DescriptionStyleModel",
            "_view_count": null,
            "_view_module": "@jupyter-widgets/base",
            "_view_module_version": "1.2.0",
            "_view_name": "StyleView",
            "description_width": ""
          }
        },
        "1bfdeed130c24f98ae38f892376a1bca": {
          "model_module": "@jupyter-widgets/base",
          "model_name": "LayoutModel",
          "model_module_version": "1.2.0",
          "state": {
            "_model_module": "@jupyter-widgets/base",
            "_model_module_version": "1.2.0",
            "_model_name": "LayoutModel",
            "_view_count": null,
            "_view_module": "@jupyter-widgets/base",
            "_view_module_version": "1.2.0",
            "_view_name": "LayoutView",
            "align_content": null,
            "align_items": null,
            "align_self": null,
            "border": null,
            "bottom": null,
            "display": null,
            "flex": null,
            "flex_flow": null,
            "grid_area": null,
            "grid_auto_columns": null,
            "grid_auto_flow": null,
            "grid_auto_rows": null,
            "grid_column": null,
            "grid_gap": null,
            "grid_row": null,
            "grid_template_areas": null,
            "grid_template_columns": null,
            "grid_template_rows": null,
            "height": null,
            "justify_content": null,
            "justify_items": null,
            "left": null,
            "margin": null,
            "max_height": null,
            "max_width": null,
            "min_height": null,
            "min_width": null,
            "object_fit": null,
            "object_position": null,
            "order": null,
            "overflow": null,
            "overflow_x": null,
            "overflow_y": null,
            "padding": null,
            "right": null,
            "top": null,
            "visibility": null,
            "width": null
          }
        },
        "8c2ffce67d1d48e499350f38e1748b12": {
          "model_module": "@jupyter-widgets/controls",
          "model_name": "DescriptionStyleModel",
          "model_module_version": "1.5.0",
          "state": {
            "_model_module": "@jupyter-widgets/controls",
            "_model_module_version": "1.5.0",
            "_model_name": "DescriptionStyleModel",
            "_view_count": null,
            "_view_module": "@jupyter-widgets/base",
            "_view_module_version": "1.2.0",
            "_view_name": "StyleView",
            "description_width": ""
          }
        },
        "e68ccb8be93a417791ad05e2e70b94b3": {
          "model_module": "@jupyter-widgets/controls",
          "model_name": "IntProgressModel",
          "model_module_version": "1.5.0",
          "state": {
            "_dom_classes": [],
            "_model_module": "@jupyter-widgets/controls",
            "_model_module_version": "1.5.0",
            "_model_name": "IntProgressModel",
            "_view_count": null,
            "_view_module": "@jupyter-widgets/controls",
            "_view_module_version": "1.5.0",
            "_view_name": "ProgressView",
            "bar_style": "",
            "description": "Model 78/78",
            "description_tooltip": null,
            "layout": "IPY_MODEL_1c919f3de14a413483a113fce1b31678",
            "max": 78,
            "min": 0,
            "orientation": "horizontal",
            "style": "IPY_MODEL_9b94bf65565b4c3e80a9d05233c6f7fb",
            "value": 78
          }
        },
        "1c919f3de14a413483a113fce1b31678": {
          "model_module": "@jupyter-widgets/base",
          "model_name": "LayoutModel",
          "model_module_version": "1.2.0",
          "state": {
            "_model_module": "@jupyter-widgets/base",
            "_model_module_version": "1.2.0",
            "_model_name": "LayoutModel",
            "_view_count": null,
            "_view_module": "@jupyter-widgets/base",
            "_view_module_version": "1.2.0",
            "_view_name": "LayoutView",
            "align_content": null,
            "align_items": null,
            "align_self": null,
            "border": null,
            "bottom": null,
            "display": null,
            "flex": null,
            "flex_flow": null,
            "grid_area": null,
            "grid_auto_columns": null,
            "grid_auto_flow": null,
            "grid_auto_rows": null,
            "grid_column": null,
            "grid_gap": null,
            "grid_row": null,
            "grid_template_areas": null,
            "grid_template_columns": null,
            "grid_template_rows": null,
            "height": null,
            "justify_content": null,
            "justify_items": null,
            "left": null,
            "margin": null,
            "max_height": null,
            "max_width": null,
            "min_height": null,
            "min_width": null,
            "object_fit": null,
            "object_position": null,
            "order": null,
            "overflow": null,
            "overflow_x": null,
            "overflow_y": null,
            "padding": null,
            "right": null,
            "top": null,
            "visibility": null,
            "width": null
          }
        },
        "9b94bf65565b4c3e80a9d05233c6f7fb": {
          "model_module": "@jupyter-widgets/controls",
          "model_name": "ProgressStyleModel",
          "model_module_version": "1.5.0",
          "state": {
            "_model_module": "@jupyter-widgets/controls",
            "_model_module_version": "1.5.0",
            "_model_name": "ProgressStyleModel",
            "_view_count": null,
            "_view_module": "@jupyter-widgets/base",
            "_view_module_version": "1.2.0",
            "_view_name": "StyleView",
            "bar_color": null,
            "description_width": ""
          }
        },
        "fcc2ba646ea84b6f9fb1ab36cfe09780": {
          "model_module": "@jupyter-widgets/controls",
          "model_name": "IntProgressModel",
          "model_module_version": "1.5.0",
          "state": {
            "_dom_classes": [],
            "_model_module": "@jupyter-widgets/controls",
            "_model_module_version": "1.5.0",
            "_model_name": "IntProgressModel",
            "_view_count": null,
            "_view_module": "@jupyter-widgets/controls",
            "_view_module_version": "1.5.0",
            "_view_name": "ProgressView",
            "bar_style": "",
            "description": "Trial 1/1",
            "description_tooltip": null,
            "layout": "IPY_MODEL_ea26cd3955024ca3adb3e18bbb6a3b5a",
            "max": 1,
            "min": 0,
            "orientation": "horizontal",
            "style": "IPY_MODEL_e2b72bc7f3eb4ddda9a53e338c8a6603",
            "value": 1
          }
        },
        "ea26cd3955024ca3adb3e18bbb6a3b5a": {
          "model_module": "@jupyter-widgets/base",
          "model_name": "LayoutModel",
          "model_module_version": "1.2.0",
          "state": {
            "_model_module": "@jupyter-widgets/base",
            "_model_module_version": "1.2.0",
            "_model_name": "LayoutModel",
            "_view_count": null,
            "_view_module": "@jupyter-widgets/base",
            "_view_module_version": "1.2.0",
            "_view_name": "LayoutView",
            "align_content": null,
            "align_items": null,
            "align_self": null,
            "border": null,
            "bottom": null,
            "display": null,
            "flex": null,
            "flex_flow": null,
            "grid_area": null,
            "grid_auto_columns": null,
            "grid_auto_flow": null,
            "grid_auto_rows": null,
            "grid_column": null,
            "grid_gap": null,
            "grid_row": null,
            "grid_template_areas": null,
            "grid_template_columns": null,
            "grid_template_rows": null,
            "height": null,
            "justify_content": null,
            "justify_items": null,
            "left": null,
            "margin": null,
            "max_height": null,
            "max_width": null,
            "min_height": null,
            "min_width": null,
            "object_fit": null,
            "object_position": null,
            "order": null,
            "overflow": null,
            "overflow_x": null,
            "overflow_y": null,
            "padding": null,
            "right": null,
            "top": null,
            "visibility": null,
            "width": null
          }
        },
        "e2b72bc7f3eb4ddda9a53e338c8a6603": {
          "model_module": "@jupyter-widgets/controls",
          "model_name": "ProgressStyleModel",
          "model_module_version": "1.5.0",
          "state": {
            "_model_module": "@jupyter-widgets/controls",
            "_model_module_version": "1.5.0",
            "_model_name": "ProgressStyleModel",
            "_view_count": null,
            "_view_module": "@jupyter-widgets/base",
            "_view_module_version": "1.2.0",
            "_view_name": "StyleView",
            "bar_color": null,
            "description_width": ""
          }
        },
        "77e6ba111a224f14937d328f45aa429b": {
          "model_module": "@jupyter-widgets/controls",
          "model_name": "IntProgressModel",
          "model_module_version": "1.5.0",
          "state": {
            "_dom_classes": [],
            "_model_module": "@jupyter-widgets/controls",
            "_model_module_version": "1.5.0",
            "_model_name": "IntProgressModel",
            "_view_count": null,
            "_view_module": "@jupyter-widgets/controls",
            "_view_module_version": "1.5.0",
            "_view_name": "ProgressView",
            "bar_style": "",
            "description": "Session 13/13",
            "description_tooltip": null,
            "layout": "IPY_MODEL_3ac9a83728f740199ea8e23a081a2a77",
            "max": 13,
            "min": 0,
            "orientation": "horizontal",
            "style": "IPY_MODEL_8dd051e68960450bb82e1e9fed480255",
            "value": 13
          }
        },
        "3ac9a83728f740199ea8e23a081a2a77": {
          "model_module": "@jupyter-widgets/base",
          "model_name": "LayoutModel",
          "model_module_version": "1.2.0",
          "state": {
            "_model_module": "@jupyter-widgets/base",
            "_model_module_version": "1.2.0",
            "_model_name": "LayoutModel",
            "_view_count": null,
            "_view_module": "@jupyter-widgets/base",
            "_view_module_version": "1.2.0",
            "_view_name": "LayoutView",
            "align_content": null,
            "align_items": null,
            "align_self": null,
            "border": null,
            "bottom": null,
            "display": null,
            "flex": null,
            "flex_flow": null,
            "grid_area": null,
            "grid_auto_columns": null,
            "grid_auto_flow": null,
            "grid_auto_rows": null,
            "grid_column": null,
            "grid_gap": null,
            "grid_row": null,
            "grid_template_areas": null,
            "grid_template_columns": null,
            "grid_template_rows": null,
            "height": null,
            "justify_content": null,
            "justify_items": null,
            "left": null,
            "margin": null,
            "max_height": null,
            "max_width": null,
            "min_height": null,
            "min_width": null,
            "object_fit": null,
            "object_position": null,
            "order": null,
            "overflow": null,
            "overflow_x": null,
            "overflow_y": null,
            "padding": null,
            "right": null,
            "top": null,
            "visibility": null,
            "width": null
          }
        },
        "8dd051e68960450bb82e1e9fed480255": {
          "model_module": "@jupyter-widgets/controls",
          "model_name": "ProgressStyleModel",
          "model_module_version": "1.5.0",
          "state": {
            "_model_module": "@jupyter-widgets/controls",
            "_model_module_version": "1.5.0",
            "_model_name": "ProgressStyleModel",
            "_view_count": null,
            "_view_module": "@jupyter-widgets/base",
            "_view_module_version": "1.2.0",
            "_view_name": "StyleView",
            "bar_color": null,
            "description_width": ""
          }
        }
      }
    }
  },
  "nbformat": 4,
  "nbformat_minor": 0
}